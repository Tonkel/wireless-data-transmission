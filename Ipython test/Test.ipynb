{
 "cells": [
  {
   "cell_type": "code",
   "execution_count": 8,
   "metadata": {
    "collapsed": true
   },
   "outputs": [],
   "source": [
    "import cv2\n",
    "import numpy as np\n",
    "from matplotlib import pyplot as plt\n",
    "from scipy.ndimage.interpolation import zoom\n",
    "import zlib\n",
    "import blosc"
   ]
  },
  {
   "cell_type": "code",
   "execution_count": 9,
   "metadata": {
    "collapsed": true
   },
   "outputs": [],
   "source": [
    "def Depth2Gray(d4d):\n",
    "        d4d = 255 - cv2.cvtColor(d4d, cv2.COLOR_GRAY2RGB)\n",
    "        return d4d"
   ]
  },
  {
   "cell_type": "markdown",
   "metadata": {},
   "source": [
    "## Easy Intra-frame Compression Methods"
   ]
  },
  {
   "cell_type": "markdown",
   "metadata": {},
   "source": [
    "### Test Compression Tools for Depth and Color Images"
   ]
  },
  {
   "cell_type": "code",
   "execution_count": 10,
   "metadata": {
    "collapsed": true
   },
   "outputs": [],
   "source": [
    "def depth_compress(i):\n",
    "    name = \"../pic/depth_\"\n",
    "    filename = name+str(i)+\".png\"\n",
    "    depth = cv2.imread(filename)\n",
    "    \n",
    "    return len(depth.tostring()), len(zlib.compress(depth.tostring())), len(blosc.compress(depth.tostring()))\n",
    "def color_compress(i):\n",
    "    name = \"../pic/rgb_\"\n",
    "    filename = name+str(i)+\".png\"\n",
    "    color = cv2.imread(filename)\n",
    "    return len(color.tostring()), len(zlib.compress(color.tostring())), len(blosc.compress(color.tostring()))"
   ]
  },
  {
   "cell_type": "code",
   "execution_count": 53,
   "metadata": {},
   "outputs": [
    {
     "ename": "KeyboardInterrupt",
     "evalue": "",
     "output_type": "error",
     "traceback": [
      "\u001b[0;31m---------------------------------------------------------------------------\u001b[0m",
      "\u001b[0;31mKeyboardInterrupt\u001b[0m                         Traceback (most recent call last)",
      "\u001b[0;32m<ipython-input-53-b8fb381932cc>\u001b[0m in \u001b[0;36m<module>\u001b[0;34m()\u001b[0m\n\u001b[1;32m      6\u001b[0m     \u001b[0mzd\u001b[0m\u001b[0;34m.\u001b[0m\u001b[0mappend\u001b[0m\u001b[0;34m(\u001b[0m\u001b[0mz\u001b[0m\u001b[0;34m)\u001b[0m\u001b[0;34m\u001b[0m\u001b[0m\n\u001b[1;32m      7\u001b[0m     \u001b[0mbd\u001b[0m\u001b[0;34m.\u001b[0m\u001b[0mappend\u001b[0m\u001b[0;34m(\u001b[0m\u001b[0mb\u001b[0m\u001b[0;34m)\u001b[0m\u001b[0;34m\u001b[0m\u001b[0m\n\u001b[0;32m----> 8\u001b[0;31m     \u001b[0mt\u001b[0m\u001b[0;34m,\u001b[0m\u001b[0mz\u001b[0m\u001b[0;34m,\u001b[0m\u001b[0mb\u001b[0m \u001b[0;34m=\u001b[0m \u001b[0mcolor_compress\u001b[0m\u001b[0;34m(\u001b[0m\u001b[0mi\u001b[0m\u001b[0;34m)\u001b[0m\u001b[0;34m\u001b[0m\u001b[0m\n\u001b[0m\u001b[1;32m      9\u001b[0m     \u001b[0mtc\u001b[0m\u001b[0;34m.\u001b[0m\u001b[0mappend\u001b[0m\u001b[0;34m(\u001b[0m\u001b[0mt\u001b[0m\u001b[0;34m)\u001b[0m\u001b[0;34m\u001b[0m\u001b[0m\n\u001b[1;32m     10\u001b[0m     \u001b[0mzc\u001b[0m\u001b[0;34m.\u001b[0m\u001b[0mappend\u001b[0m\u001b[0;34m(\u001b[0m\u001b[0mz\u001b[0m\u001b[0;34m)\u001b[0m\u001b[0;34m\u001b[0m\u001b[0m\n",
      "\u001b[0;32m<ipython-input-10-11a40d6cd3d6>\u001b[0m in \u001b[0;36mcolor_compress\u001b[0;34m(i)\u001b[0m\n\u001b[1;32m      9\u001b[0m     \u001b[0mfilename\u001b[0m \u001b[0;34m=\u001b[0m \u001b[0mname\u001b[0m\u001b[0;34m+\u001b[0m\u001b[0mstr\u001b[0m\u001b[0;34m(\u001b[0m\u001b[0mi\u001b[0m\u001b[0;34m)\u001b[0m\u001b[0;34m+\u001b[0m\u001b[0;34m\".png\"\u001b[0m\u001b[0;34m\u001b[0m\u001b[0m\n\u001b[1;32m     10\u001b[0m     \u001b[0mcolor\u001b[0m \u001b[0;34m=\u001b[0m \u001b[0mcv2\u001b[0m\u001b[0;34m.\u001b[0m\u001b[0mimread\u001b[0m\u001b[0;34m(\u001b[0m\u001b[0mfilename\u001b[0m\u001b[0;34m)\u001b[0m\u001b[0;34m\u001b[0m\u001b[0m\n\u001b[0;32m---> 11\u001b[0;31m     \u001b[0;32mreturn\u001b[0m \u001b[0mlen\u001b[0m\u001b[0;34m(\u001b[0m\u001b[0mcolor\u001b[0m\u001b[0;34m.\u001b[0m\u001b[0mtostring\u001b[0m\u001b[0;34m(\u001b[0m\u001b[0;34m)\u001b[0m\u001b[0;34m)\u001b[0m\u001b[0;34m,\u001b[0m \u001b[0mlen\u001b[0m\u001b[0;34m(\u001b[0m\u001b[0mzlib\u001b[0m\u001b[0;34m.\u001b[0m\u001b[0mcompress\u001b[0m\u001b[0;34m(\u001b[0m\u001b[0mcolor\u001b[0m\u001b[0;34m.\u001b[0m\u001b[0mtostring\u001b[0m\u001b[0;34m(\u001b[0m\u001b[0;34m)\u001b[0m\u001b[0;34m)\u001b[0m\u001b[0;34m)\u001b[0m\u001b[0;34m,\u001b[0m \u001b[0mlen\u001b[0m\u001b[0;34m(\u001b[0m\u001b[0mblosc\u001b[0m\u001b[0;34m.\u001b[0m\u001b[0mcompress\u001b[0m\u001b[0;34m(\u001b[0m\u001b[0mcolor\u001b[0m\u001b[0;34m.\u001b[0m\u001b[0mtostring\u001b[0m\u001b[0;34m(\u001b[0m\u001b[0;34m)\u001b[0m\u001b[0;34m)\u001b[0m\u001b[0;34m)\u001b[0m\u001b[0;34m\u001b[0m\u001b[0m\n\u001b[0m",
      "\u001b[0;31mKeyboardInterrupt\u001b[0m: "
     ]
    }
   ],
   "source": [
    "td=zd=bd=tc=zc=bc=[]\n",
    "tdv = zdv = bdv = tcv = zcv = bcv= 0\n",
    "for i in range(1, 441):\n",
    "    t,z,b = depth_compress(i)\n",
    "    td.append(t)\n",
    "    zd.append(z)\n",
    "    bd.append(b)\n",
    "    t,z,b = color_compress(i)\n",
    "    tc.append(t)\n",
    "    zc.append(z)\n",
    "    bc.append(b)\n",
    "tdv = np.sum(td)/440.0\n",
    "bdv = np.sum(bd)/440.0\n",
    "zdv = np.sum(zd)/440.0\n",
    "tcv = np.sum(tc)/440.0\n",
    "zcv = np.sum(zc)/440.0\n",
    "bcv = np.sum(bc)/440.0\n",
    "print(\"Depth:\")\n",
    "print(\"Average Date size:\",tdv)\n",
    "print(\"After Native Zlib Compression:\",zdv , \n",
    "      \"; Compression Rate:\",zdv/tdv*100)\n",
    "print(\"After Blosc Compression:\", bdv, \n",
    "      \"; Compression Rate:\",bdv/tdv*100)\n",
    "print(\"Color:\")\n",
    "print(\"Average Data size: \", tcv)\n",
    "print(\"After Native Zlib Compression:\",zc , \n",
    "      \"; Compression Rate:\",zcv/tcv*100)\n",
    "print(\"After Blosc Compression:\", bcv, \n",
    "      \"; Compression Rate:\",bcv/tcv*100)"
   ]
  },
  {
   "cell_type": "markdown",
   "metadata": {},
   "source": [
    "### Test the compression rate if transmit them together"
   ]
  },
  {
   "cell_type": "code",
   "execution_count": 15,
   "metadata": {},
   "outputs": [
    {
     "name": "stdout",
     "output_type": "stream",
     "text": [
      "RGBD:\n",
      "('Average Date size\\xef\\xbc\\x9a', 1843200.0)\n",
      "('After Native Zlib Compression:', 903474.1568181819, '; Compression Rate:', 49.01661007043087)\n",
      "('After Blosc Compression:', 1553262.7272727273, '; Compression Rate:', 84.26989622790404)\n"
     ]
    }
   ],
   "source": [
    "def rgbd_compress(i):\n",
    "    name = \"../pic/depth_\"\n",
    "    filename = name+str(i)+\".png\"\n",
    "    depth = cv2.imread(filename)\n",
    "    name = \"../pic/rgb_\"\n",
    "    filename = name+str(i)+\".png\"\n",
    "    color = cv2.imread(filename)\n",
    "    rgbd = np.dstack((color, depth))\n",
    "    return len(rgbd.tostring()), len(zlib.compress(rgbd.tostring())), len(blosc.compress(rgbd.tostring()))\n",
    "td=zd=bd = 0\n",
    "for i in range(1, 441):\n",
    "    t,z,b = rgbd_compress(i)\n",
    "    td += t\n",
    "    zd += z\n",
    "    bd += b\n",
    "td /= 440.0\n",
    "bd /= 440.0\n",
    "zd /= 440.0\n",
    "print(\"RGBD:\")\n",
    "print(\"Average Date size：\",td)\n",
    "print(\"After Native Zlib Compression:\",zd , \n",
    "      \"; Compression Rate:\",zd/td*100)\n",
    "print(\"After Blosc Compression:\", bd, \n",
    "      \"; Compression Rate:\",bd/td*100)"
   ]
  },
  {
   "cell_type": "markdown",
   "metadata": {},
   "source": [
    "### Lossy Intra-frame Compression"
   ]
  },
  {
   "cell_type": "code",
   "execution_count": 18,
   "metadata": {
    "collapsed": true
   },
   "outputs": [],
   "source": [
    "def depth_compress_lossy(i):\n",
    "    name = \"../pic/depth_\"\n",
    "    filename = name+str(i)+\".png\"\n",
    "    depth = cv2.imread(filename)\n",
    "    depth = zoom(depth, [0.5,0.5,1])\n",
    "    n_depth = np.mean((zoom(depth, [2,2,1]) - cv2.imread(filename)))\n",
    "    return len(depth.tostring()), len(zlib.compress(depth.tostring())), len(blosc.compress(depth.tostring())), n_depth\n",
    "def color_compress_lossy(i):\n",
    "    name = \"../pic/rgb_\"\n",
    "    filename = name+str(i)+\".png\"\n",
    "    color = cv2.imread(filename)\n",
    "    color = zoom(color,[0.5,0.5,1])\n",
    "    n_color = np.mean((zoom(color,[2,2,1]) - cv2.imread(filename)))\n",
    "    return len(color.tostring()), len(zlib.compress(color.tostring())), len(blosc.compress(color.tostring())), n_color"
   ]
  },
  {
   "cell_type": "code",
   "execution_count": 19,
   "metadata": {},
   "outputs": [
    {
     "name": "stdout",
     "output_type": "stream",
     "text": [
      "Depth:\n",
      "('Average Date size\\xef\\xbc\\x9a', 230400.0)\n",
      "('After Native Zlib Compression:', 24243.520454545454, '; Compression Rate:', 10.522361308396464)\n",
      "('After Blosc Compression:', 93094.3159090909, '; Compression Rate:', 40.40551905776515)\n",
      "('Lossy rate: Std of difference: ', 67.122543548529578)\n",
      "Color:\n",
      "('Average Data size: ', 230400.0)\n",
      "('After Native Zlib Compression:', 197909.59772727272, '; Compression Rate:', 85.89826290246212)\n",
      "('After Blosc Compression:', 228345.7431818182, '; Compression Rate:', 99.1083954782197)\n",
      "('Lossy rate: Std of difference: ', 120.55603492170779)\n"
     ]
    }
   ],
   "source": [
    "td_l=zd_l=bd_l=tc_l=zc_l=bc_l=nd=nc = 0\n",
    "for i in range(1, 441):\n",
    "    t,z,b,n = depth_compress_lossy(i)\n",
    "    td_l += t\n",
    "    zd_l += z\n",
    "    bd_l += b\n",
    "    nd += n\n",
    "    t,z,b,n = color_compress_lossy(i)\n",
    "    tc_l += t\n",
    "    zc_l += z\n",
    "    bc_l += b\n",
    "    nc += n\n",
    "td_l /= 440.0\n",
    "bd_l /= 440.0\n",
    "zd_l /= 440.0\n",
    "tc_l /= 440.0\n",
    "zc_l /= 440.0\n",
    "bc_l /= 440.0\n",
    "nd /= 440.0\n",
    "nc /= 440.0\n",
    "print(\"Depth:\")\n",
    "print(\"Average Date size：\",td_l)\n",
    "print(\"After Native Zlib Compression:\",zd_l , \n",
    "      \"; Compression Rate:\",zd_l/td_l*100)\n",
    "print(\"After Blosc Compression:\", bd_l, \n",
    "      \"; Compression Rate:\",bd_l/td_l*100)\n",
    "print(\"Lossy rate: Std of difference: \", nd)\n",
    "print(\"Color:\")\n",
    "print(\"Average Data size: \", tc_l)\n",
    "print(\"After Native Zlib Compression:\",zc_l , \n",
    "      \"; Compression Rate:\",zc_l/tc_l*100)\n",
    "print(\"After Blosc Compression:\", bc_l, \n",
    "      \"; Compression Rate:\",bc_l/tc_l*100)\n",
    "print(\"Lossy rate: Std of difference: \", nc)"
   ]
  },
  {
   "cell_type": "markdown",
   "metadata": {},
   "source": [
    "###  JPEG Intra-frame Compression (Lossy)"
   ]
  },
  {
   "cell_type": "code",
   "execution_count": 39,
   "metadata": {
    "collapsed": true
   },
   "outputs": [],
   "source": [
    "from PIL import Image\n",
    "from io import BytesIO\n",
    "import StringIO"
   ]
  },
  {
   "cell_type": "code",
   "execution_count": 40,
   "metadata": {
    "collapsed": true
   },
   "outputs": [],
   "source": [
    "def getData(i):\n",
    "    name = \"../pic/depth_\"\n",
    "    filename = name+str(i)+\".png\"\n",
    "    depth = cv2.imread(filename)\n",
    "    \n",
    "    name = \"../pic/rgb_\"\n",
    "    filename = name+str(i)+\".png\"\n",
    "    color = cv2.imread(filename)\n",
    "    return np.fromstring(depth, np.uint8).reshape(480,640,3), np.fromstring(color, np.uint8).reshape(480,640,3)"
   ]
  },
  {
   "cell_type": "code",
   "execution_count": 43,
   "metadata": {},
   "outputs": [],
   "source": [
    "def testJPEG(qua):\n",
    "    d=r=dd=rd=0\n",
    "    for i in range(1,441):\n",
    "        depth, rgb = getData(i)\n",
    "        img = Image.fromarray(rgb)\n",
    "        img1 = Image.fromarray(depth)\n",
    "        fpath =BytesIO()\n",
    "        img.save(fpath, quality = qua, format = \"JPEG\")\n",
    "        fpath.seek(0)\n",
    "        d += (len(fpath.getvalue()))\n",
    "        dpath = BytesIO()\n",
    "        img1.save(dpath, quality = qua, format = \"JPEG\")\n",
    "        dpath.seek(0)\n",
    "        r += (len(dpath.getvalue()))\n",
    "        depth1 = np.array(Image.open(dpath))\n",
    "        rgb1 = np.array(Image.open(fpath))\n",
    "        rd += np.mean(rgb - rgb1)\n",
    "        dd += np.mean(depth - depth1)\n",
    "    d /= 440.0\n",
    "    r /= 440.0\n",
    "    rd /= 440.0\n",
    "    dd /= 440.0\n",
    "    print(\"Depth:\"+str(qua))\n",
    "    print(\"Average After compressed:\"+str(d))\n",
    "    print(\"Compression rate: \"+str(d/307200.0*100)+\"%\")\n",
    "    print(\"Average Loss : \"+str(dd))\n",
    "    print(\"Color:\"+str(qua))\n",
    "    print(\"Average After compressed:\"+str(r))\n",
    "    print(\"Compression rate: \"+str(r/307200.0*100)+\"%\")\n",
    "    print(\"Average Loss : \"+str(rd))"
   ]
  },
  {
   "cell_type": "code",
   "execution_count": 44,
   "metadata": {},
   "outputs": [
    {
     "name": "stdout",
     "output_type": "stream",
     "text": [
      "Depth:95\n",
      "Average After compressed:129644.672727\n",
      "Compression rate: 42.2020419034%\n",
      "Average Loss : 20.4787287302\n",
      "Color:95\n",
      "Average After compressed:58715.1431818\n",
      "Compression rate: 19.1130023378%\n",
      "Average Loss : 105.635120413\n",
      "Depth:90\n",
      "Average After compressed:85169.0772727\n",
      "Compression rate: 27.724309008%\n",
      "Average Loss : 26.2367088216\n",
      "Color:90\n",
      "Average After compressed:45408.4954545\n",
      "Compression rate: 14.7814112808%\n",
      "Average Loss : 108.132225369\n",
      "Depth:85\n",
      "Average After compressed:66267.5090909\n",
      "Compression rate: 21.5714547822%\n",
      "Average Loss : 29.9312478989\n",
      "Color:85\n",
      "Average After compressed:38934.5840909\n",
      "Compression rate: 12.6740182588%\n",
      "Average Loss : 109.442073728\n",
      "Depth:80\n",
      "Average After compressed:55664.3477273\n",
      "Compression rate: 18.1199048591%\n",
      "Average Loss : 35.1961558727\n",
      "Color:80\n",
      "Average After compressed:35198.0045455\n",
      "Compression rate: 11.4576837713%\n",
      "Average Loss : 110.529037302\n",
      "Depth:75\n",
      "Average After compressed:48148.9795455\n",
      "Compression rate: 15.6734959458%\n",
      "Average Loss : 34.0470837846\n",
      "Color:75\n",
      "Average After compressed:32139.8159091\n",
      "Compression rate: 10.4621796579%\n",
      "Average Loss : 110.4754457\n",
      "Depth:70\n",
      "Average After compressed:43321.4727273\n",
      "Compression rate: 14.1020419034%\n",
      "Average Loss : 112.723110396\n",
      "Color:70\n",
      "Average After compressed:29956.8181818\n",
      "Compression rate: 9.75156841856%\n",
      "Average Loss : 114.977739689\n",
      "Depth:65\n",
      "Average After compressed:39120.2340909\n",
      "Compression rate: 12.7344512015%\n",
      "Average Loss : 54.7220248654\n",
      "Color:65\n",
      "Average After compressed:28057.9386364\n",
      "Compression rate: 9.13344356652%\n",
      "Average Loss : 111.749880763\n",
      "Depth:60\n",
      "Average After compressed:35723.2454545\n",
      "Compression rate: 11.6286606297%\n",
      "Average Loss : 59.6050319306\n",
      "Color:60\n",
      "Average After compressed:26421.8295455\n",
      "Compression rate: 8.60085597183%\n",
      "Average Loss : 112.136518629\n",
      "Depth:55\n",
      "Average After compressed:32979.2636364\n",
      "Compression rate: 10.7354373816%\n",
      "Average Loss : 64.6802416104\n",
      "Color:55\n",
      "Average After compressed:25116.6318182\n",
      "Compression rate: 8.17598691998%\n",
      "Average Loss : 111.867061462\n"
     ]
    }
   ],
   "source": [
    "for i in range(95, 50, -5):\n",
    "    testJPEG(i)"
   ]
  },
  {
   "cell_type": "code",
   "execution_count": null,
   "metadata": {
    "collapsed": true
   },
   "outputs": [],
   "source": []
  }
 ],
 "metadata": {
  "kernelspec": {
   "display_name": "Python 2",
   "language": "python",
   "name": "python2"
  },
  "language_info": {
   "codemirror_mode": {
    "name": "ipython",
    "version": 2
   },
   "file_extension": ".py",
   "mimetype": "text/x-python",
   "name": "python",
   "nbconvert_exporter": "python",
   "pygments_lexer": "ipython2",
   "version": "2.7.14"
  }
 },
 "nbformat": 4,
 "nbformat_minor": 2
}
