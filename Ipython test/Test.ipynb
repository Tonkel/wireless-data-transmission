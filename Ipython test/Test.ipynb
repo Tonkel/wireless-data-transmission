{
 "cells": [
  {
   "cell_type": "code",
   "execution_count": 66,
   "metadata": {},
   "outputs": [],
   "source": [
    "import cv2\n",
    "import numpy as np\n",
    "from matplotlib import pyplot as plt\n",
    "from scipy.ndimage.interpolation import zoom\n",
    "import zlib\n",
    "import blosc"
   ]
  },
  {
   "cell_type": "code",
   "execution_count": 27,
   "metadata": {
    "collapsed": true
   },
   "outputs": [],
   "source": [
    "def Depth2Gray(d4d):\n",
    "        d4d = 255 - cv2.cvtColor(d4d, cv2.COLOR_GRAY2RGB)\n",
    "        return d4d"
   ]
  },
  {
   "cell_type": "markdown",
   "metadata": {},
   "source": [
    "## Easy Intra-frame Compression Methods"
   ]
  },
  {
   "cell_type": "markdown",
   "metadata": {},
   "source": [
    "### Test Compression Tools for Depth and Color Images"
   ]
  },
  {
   "cell_type": "code",
   "execution_count": 59,
   "metadata": {
    "collapsed": true
   },
   "outputs": [],
   "source": [
    "def depth_compress(i):\n",
    "    name = \"apple_1/apple_1_1_\"\n",
    "    filename = name+str(i)+\"_depth.png\"\n",
    "    depth = cv2.imread(filename)\n",
    "    \n",
    "    return len(depth.tostring()), len(zlib.compress(depth.tostring())), len(blosc.compress(depth.tostring()))\n",
    "def color_compress(i):\n",
    "    name = \"apple_1/apple_1_1_\"\n",
    "    filename = name+str(i)+\".png\"\n",
    "    color = cv2.imread(filename)\n",
    "    return len(color.tostring()), len(zlib.compress(color.tostring())), len(blosc.compress(color.tostring()))"
   ]
  },
  {
   "cell_type": "code",
   "execution_count": 63,
   "metadata": {},
   "outputs": [
    {
     "name": "stdout",
     "output_type": "stream",
     "text": [
      "Depth:\n",
      "Average Date size： 921600.0\n",
      "After Native Zlib Compression: 13736.033653846154 ; Compression Rate: 1.490455040564904\n",
      "After Blosc Compression: 127634.97596153847 ; Compression Rate: 13.849281245826656\n",
      "Color:\n",
      "Average Data size:  921600.0\n",
      "After Native Zlib Compression: 444878.9711538461 ; Compression Rate: 48.27245780749199\n",
      "After Blosc Compression: 848393.1346153846 ; Compression Rate: 92.05654672475961\n"
     ]
    }
   ],
   "source": [
    "%timeit\n",
    "td=zd=bd=tc=zc=bc = 0\n",
    "for i in range(1, 209):\n",
    "    t,z,b = depth_compress(i)\n",
    "    td += t\n",
    "    zd += z\n",
    "    bd += b\n",
    "    t,z,b = color_compress(i)\n",
    "    tc += t\n",
    "    zc += z\n",
    "    bc += b\n",
    "td /= 208.0\n",
    "bd /= 208.0\n",
    "zd /= 208.0\n",
    "tc /= 208.0\n",
    "zc /= 208.0\n",
    "bc /= 208.0\n",
    "print(\"Depth:\")\n",
    "print(\"Average Date size：\",td)\n",
    "print(\"After Native Zlib Compression:\",zd , \n",
    "      \"; Compression Rate:\",zd/td*100)\n",
    "print(\"After Blosc Compression:\", bd, \n",
    "      \"; Compression Rate:\",bd/td*100)\n",
    "print(\"Color:\")\n",
    "print(\"Average Data size: \", tc)\n",
    "print(\"After Native Zlib Compression:\",zc , \n",
    "      \"; Compression Rate:\",zc/tc*100)\n",
    "print(\"After Blosc Compression:\", bc, \n",
    "      \"; Compression Rate:\",bc/tc*100)"
   ]
  },
  {
   "cell_type": "markdown",
   "metadata": {},
   "source": [
    "### Test the compression rate if transmit them together"
   ]
  },
  {
   "cell_type": "code",
   "execution_count": 64,
   "metadata": {},
   "outputs": [
    {
     "name": "stdout",
     "output_type": "stream",
     "text": [
      "RGBD:\n",
      "Average Date size： 1843200.0\n",
      "After Native Zlib Compression: 542334.9182692308 ; Compression Rate: 29.42355242346087\n",
      "After Blosc Compression: 1293149.5625 ; Compression Rate: 70.15785386827257\n"
     ]
    }
   ],
   "source": [
    "def rgbd_compress(i):\n",
    "    name = \"apple_1/apple_1_1_\"\n",
    "    filename = name+str(i)+\"_depth.png\"\n",
    "    depth = cv2.imread(filename)\n",
    "    filename = name+str(i)+\".png\"\n",
    "    color = cv2.imread(filename)\n",
    "    rgbd = np.dstack((color, depth))\n",
    "    return len(rgbd.tostring()), len(zlib.compress(rgbd.tostring())), len(blosc.compress(rgbd.tostring()))\n",
    "td=zd=bd = 0\n",
    "for i in range(1, 209):\n",
    "    t,z,b = rgbd_compress(i)\n",
    "    td += t\n",
    "    zd += z\n",
    "    bd += b\n",
    "td /= 208.0\n",
    "bd /= 208.0\n",
    "zd /= 208.0\n",
    "print(\"RGBD:\")\n",
    "print(\"Average Date size：\",td)\n",
    "print(\"After Native Zlib Compression:\",zd , \n",
    "      \"; Compression Rate:\",zd/td*100)\n",
    "print(\"After Blosc Compression:\", bd, \n",
    "      \"; Compression Rate:\",bd/td*100)"
   ]
  },
  {
   "cell_type": "markdown",
   "metadata": {},
   "source": [
    "### Lossy Intra-frame Compression"
   ]
  },
  {
   "cell_type": "code",
   "execution_count": 79,
   "metadata": {},
   "outputs": [],
   "source": [
    "def depth_compress_lossy(i):\n",
    "    name = \"apple_1/apple_1_1_\"\n",
    "    filename = name+str(i)+\"_depth.png\"\n",
    "    depth = cv2.imread(filename)\n",
    "    depth = zoom(depth, [0.5,0.5,1])\n",
    "    n_depth = np.std((zoom(depth, [2,2,1]) - cv2.imread(filename)))\n",
    "    return len(depth.tostring()), len(zlib.compress(depth.tostring())), len(blosc.compress(depth.tostring())), n_depth\n",
    "def color_compress_lossy(i):\n",
    "    name = \"apple_1/apple_1_1_\"\n",
    "    filename = name+str(i)+\".png\"\n",
    "    color = cv2.imread(filename)\n",
    "    color = zoom(color,[0.5,0.5,1])\n",
    "    n_color = np.std((zoom(color,[2,2,1]) - cv2.imread(filename)))\n",
    "    return len(color.tostring()), len(zlib.compress(color.tostring())), len(blosc.compress(color.tostring())), n_color"
   ]
  },
  {
   "cell_type": "code",
   "execution_count": 80,
   "metadata": {},
   "outputs": [
    {
     "name": "stdout",
     "output_type": "stream",
     "text": [
      "Depth:\n",
      "Average Date size： 230400.0\n",
      "After Native Zlib Compression: 6415.379807692308 ; Compression Rate: 2.7844530415331197\n",
      "After Blosc Compression: 41133.75961538462 ; Compression Rate: 17.853194277510685\n",
      "Lossy rate: Std of difference:  34.0414872736\n",
      "Color:\n",
      "Average Data size:  230400.0\n",
      "After Native Zlib Compression: 160165.72596153847 ; Compression Rate: 69.51637411525107\n",
      "After Blosc Compression: 219063.8798076923 ; Compression Rate: 95.0798089443109\n",
      "Lossy rate: Std of difference:  112.724191067\n"
     ]
    }
   ],
   "source": [
    "td_l=zd_l=bd_l=tc_l=zc_l=bc_l=nd=nc = 0\n",
    "for i in range(1, 209):\n",
    "    t,z,b,n = depth_compress_lossy(i)\n",
    "    td_l += t\n",
    "    zd_l += z\n",
    "    bd_l += b\n",
    "    nd += n\n",
    "    t,z,b,n = color_compress_lossy(i)\n",
    "    tc_l += t\n",
    "    zc_l += z\n",
    "    bc_l += b\n",
    "    nc += n\n",
    "td_l /= 208.0\n",
    "bd_l /= 208.0\n",
    "zd_l /= 208.0\n",
    "tc_l /= 208.0\n",
    "zc_l /= 208.0\n",
    "bc_l /= 208.0\n",
    "nd /= 208.0\n",
    "nc /= 208.0\n",
    "print(\"Depth:\")\n",
    "print(\"Average Date size：\",td_l)\n",
    "print(\"After Native Zlib Compression:\",zd_l , \n",
    "      \"; Compression Rate:\",zd_l/td_l*100)\n",
    "print(\"After Blosc Compression:\", bd_l, \n",
    "      \"; Compression Rate:\",bd_l/td_l*100)\n",
    "print(\"Lossy rate: Std of difference: \", nd)\n",
    "print(\"Color:\")\n",
    "print(\"Average Data size: \", tc_l)\n",
    "print(\"After Native Zlib Compression:\",zc_l , \n",
    "      \"; Compression Rate:\",zc_l/tc_l*100)\n",
    "print(\"After Blosc Compression:\", bc_l, \n",
    "      \"; Compression Rate:\",bc_l/tc_l*100)\n",
    "print(\"Lossy rate: Std of difference: \", nc)"
   ]
  },
  {
   "cell_type": "code",
   "execution_count": null,
   "metadata": {
    "collapsed": true
   },
   "outputs": [],
   "source": []
  }
 ],
 "metadata": {
  "kernelspec": {
   "display_name": "Python 3",
   "language": "python",
   "name": "python3"
  },
  "language_info": {
   "codemirror_mode": {
    "name": "ipython",
    "version": 3
   },
   "file_extension": ".py",
   "mimetype": "text/x-python",
   "name": "python",
   "nbconvert_exporter": "python",
   "pygments_lexer": "ipython3",
   "version": "3.5.3"
  }
 },
 "nbformat": 4,
 "nbformat_minor": 2
}
