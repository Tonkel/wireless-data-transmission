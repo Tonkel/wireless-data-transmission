{
 "cells": [
  {
   "cell_type": "markdown",
   "metadata": {},
   "source": [
    "# Test Publisher"
   ]
  },
  {
   "cell_type": "code",
   "execution_count": null,
   "metadata": {
    "collapsed": true
   },
   "outputs": [],
   "source": [
    "import cv2\n",
    "import numpy as np\n",
    "import time\n",
    "\n",
    "\n",
    "class VideoCamera(object):\n",
    "    def __init__(self):\n",
    "        name = \"../pic/rgb_\"\n",
    "        count = 0\n",
    "        \n",
    "\n",
    "    def __del__(self):\n",
    "        count = 0\n",
    "\n",
    "    def get_frame(self):\n",
    "        count+=1\n",
    "        if(count > 400):\n",
    "            count = 1\n",
    "        filename = name+str(i)+\".png\"\n",
    "        color = cv2.imread(filename)\n",
    "        \n",
    "        \n",
    "        ret, jpeg = cv2.imencode('.jpg', rgb)\n",
    "\n",
    "        return jpeg.tobytes()#fpath.getvalue()"
   ]
  }
 ],
 "metadata": {
  "kernelspec": {
   "display_name": "Python 3",
   "language": "python",
   "name": "python3"
  },
  "language_info": {
   "codemirror_mode": {
    "name": "ipython",
    "version": 3
   },
   "file_extension": ".py",
   "mimetype": "text/x-python",
   "name": "python",
   "nbconvert_exporter": "python",
   "pygments_lexer": "ipython3",
   "version": "3.5.3"
  }
 },
 "nbformat": 4,
 "nbformat_minor": 2
}
